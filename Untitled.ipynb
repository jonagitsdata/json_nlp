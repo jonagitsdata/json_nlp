{
 "cells": [
  {
   "cell_type": "code",
   "execution_count": 5,
   "id": "9b1d9806-099d-4a6c-9835-0da929a23437",
   "metadata": {},
   "outputs": [
    {
     "name": "stdout",
     "output_type": "stream",
     "text": [
      "-0.125\n"
     ]
    }
   ],
   "source": [
    "# the following installations are required\n",
    "# python -m textblob.download_corpora\n",
    "# python -m spacy download en_core_web_sm\n",
    "\n",
    "import spacy\n",
    "from spacytextblob.spacytextblob import SpacyTextBlob\n",
    "\n",
    "nlp = spacy.load('en_core_web_sm')\n",
    "nlp.add_pipe('spacytextblob')\n",
    "text = 'I had a really horrible day. It was the worst day ever! But every now and then I have a really good day that makes me happy.'\n",
    "doc = nlp(text)\n",
    "print(doc._.blob.polarity)                            # Polarity: -0.125\n",
    "#doc._.blob.subjectivity                        # Subjectivity: 0.9\n",
    "#doc._.blob.sentiment_assessments.assessments   # Assessments: [(['really', 'horrible'], -1.0, 1.0, None), (['worst', '!'], -1.0, 1.0, None), (['really', 'good'], 0.7, 0.6000000000000001, None), (['happy'], 0.8, 1.0, None)]\n",
    "#doc._.blob.ngrams()                            # [WordList(['I', 'had', 'a']), WordList(['had', 'a', 'really']), WordList(['a', 'really', 'horrible']), WordList(['really', 'horrible', 'day']), WordList(['horrible', 'day', 'It']), WordList(['day', 'It', 'was']), WordList(['It', 'was', 'the']), WordList(['was', 'the', 'worst']), WordList(['the', 'worst', 'day']), WordList(['worst', 'day', 'ever']), WordList(['day', 'ever', 'But']), WordList(['ever', 'But', 'every']), WordList(['But', 'every', 'now']), WordList(['every', 'now', 'and']), WordList(['now', 'and', 'then']), WordList(['and', 'then', 'I']), WordList(['then', 'I', 'have']), WordList(['I', 'have', 'a']), WordList(['have', 'a', 'really']), WordList(['a', 'really', 'good']), WordList(['really', 'good', 'day']), WordList(['good', 'day', 'that']), WordList(['day', 'that', 'makes']), WordList(['that', 'makes', 'me']), WordList(['makes', 'me', 'happy'])]"
   ]
  },
  {
   "cell_type": "code",
   "execution_count": 2,
   "id": "0265dde0-a5c4-404d-9c37-aa2e6e5044e6",
   "metadata": {},
   "outputs": [],
   "source": [
    "import requests\n",
    "import json\n",
    "\n",
    "AUTHOR='Edgar Allan Poe'\n",
    "POEM = 'A Dream Within A Dream'\n",
    "\n",
    "#only certain poets and titles are available\n",
    "#to see the available poets, go to (in a web browser)\n",
    "# https://poetrydb.org/author\n",
    "#To see which poems that author has available, go to \n",
    "# https://poetrydb.org/author/AUTHOR NAME\n",
    "# e.g.: https://poetrydb.org/author/Edgar Allan Poe\n",
    "#The spaces will get handled by your web browser\n",
    "\n",
    "# A cool pythonism (introduced in Python 3): f strings\n",
    "# https://docs.python.org/3/tutorial/inputoutput.html#tut-f-strings\n",
    "URL = f'https://poetrydb.org/author,title/{AUTHOR};{POEM}'\n",
    "result = json.loads(requests.get(URL).text)\n",
    "poem = '\\n'.join(result[0]['lines']) "
   ]
  },
  {
   "cell_type": "code",
   "execution_count": null,
   "id": "ae00fa48-8f94-4f32-bf0d-12d6a63ef667",
   "metadata": {},
   "outputs": [],
   "source": []
  }
 ],
 "metadata": {
  "kernelspec": {
   "display_name": "Python 3 (ipykernel)",
   "language": "python",
   "name": "python3"
  },
  "language_info": {
   "codemirror_mode": {
    "name": "ipython",
    "version": 3
   },
   "file_extension": ".py",
   "mimetype": "text/x-python",
   "name": "python",
   "nbconvert_exporter": "python",
   "pygments_lexer": "ipython3",
   "version": "3.9.7"
  }
 },
 "nbformat": 4,
 "nbformat_minor": 5
}
