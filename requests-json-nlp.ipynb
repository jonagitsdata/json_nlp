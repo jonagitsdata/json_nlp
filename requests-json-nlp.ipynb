{
 "cells": [
  {
   "cell_type": "markdown",
   "metadata": {},
   "source": [
    "# Web Mining and Applied NLP (44-620)\n",
    "\n",
    "## Requests, JSON, and NLP\n",
    "\n",
    "### Student Name: Jonathan Nkangabwa\n",
    "\n",
    "Perform the tasks described in the Markdown cells below.  When you have completed the assignment make sure your code cells have all been run (and have output beneath them) and ensure you have committed and pushed ALL of your changes to your assignment repository.\n",
    "\n",
    "Make sure you have [installed spaCy and its pipeline](https://spacy.io/usage#quickstart) and [spaCyTextBlob](https://spacy.io/universe/project/spacy-textblob)\n",
    "\n",
    "Every question that requires you to write code will have a code cell underneath it; you may either write your entire solution in that cell or write it in a python file (`.py`), then import and run the appropriate code to answer the question.\n",
    "\n",
    "This assignment requires that you write additional files (either JSON or pickle files); make sure to submit those files in your repository as well."
   ]
  },
  {
   "cell_type": "markdown",
   "metadata": {},
   "source": [
    "1. The following code accesses the [lyrics.ovh](https://lyricsovh.docs.apiary.io/#reference/0/lyrics-of-a-song/search) public api, searches for the lyrics of a song, and stores it in a dictionary object.  Write the resulting json to a file (either a JSON file or a pickle file; you choose). You will read in the contents of this file for future questions so we do not need to frequently access the API."
   ]
  },
  {
   "cell_type": "code",
   "execution_count": 23,
   "metadata": {},
   "outputs": [
    {
     "data": {
      "text/plain": [
       "'[Intro]\\nAnd they wishin\\' and wishin\\' and wishin\\' and wishin\\'\\nThey wishin\\' on me, yeah\\n\\n[Verse 1]\\nI been movin\\' calm, don\\'t start no trouble with me\\nTryna keep it peaceful is a struggle for me\\nDon\\'t pull up at 6 AM to cuddle with me\\nYou know how I like it when you lovin\\' on me\\nI don\\'t wanna die for them to miss me\\nYes, I see the things that they wishin\\' on me\\nHope I got some brothers that outlive me\\nThey gon\\' tell the story, shit was different with me\\n\\n[Chorus]\\nGod\\'s plan, God\\'s plan\\nI hold back, sometimes I won\\'t, yuh\\nI feel good, sometimes I don\\'t, ayy, don\\'t\\nI finessed down Weston Road, ayy, \\'nessed\\nMight go down a G.O.D., yeah, wait\\nI go hard on Southside G, yeah, wait\\nI make sure that north-side eat\\n\\n[Post-Chorus]\\nAnd still, bad things\\nIt\\'s a lot of bad things\\nThat they wishin\\' and wishin\\' and wishin\\' and wishin\\'\\nThey wishin\\' on me\\nBad things\\nIt\\'s a lot of bad things\\nThat they wishin\\' and wishin\\' and wishin\\' and wishin\\'\\nThey wishin\\' on me\\nYeah, ayy, ayy\\n\\n[Verse 2]\\nShe say, \"Do you love me?\" I tell her, \"Only partly\\nI only love my bed and my mama, I\\'m sorry\"\\nFifty Dub, I even got it tatted on me\\n81, they\\'ll bring the crashers to the party\\nAnd you know me\\nTurn the O2 into the O3, dog\\nWithout 40, Oli, there\\'d be no me\\n\\'Magine if I never met the broskies\\n\\n[Chorus]\\nGod\\'s plan, God\\'s plan\\nI can\\'t do this on my own, ayy, no, ayy\\nSomeone watchin\\' this shit close, yep, close\\nI\\'ve been me since Scarlett Road, ayy, road, ayy\\nMight go down as G.O.D., yeah, wait\\nI go hard on Southside G, ayy, wait\\nI make sure that north-side eat, yeah\\n\\n[Post-Chorus]\\nAnd still, bad things\\nIt\\'s a lot of bad things\\nThat they wishin\\' and wishin\\' and wishin\\' and wishin\\'\\nThey wishin\\' on me, yeah, yeah\\nBad things\\nIt\\'s a lot of bad things\\nThat they wishin\\' and wishin\\' and wishin\\' and wishin\\'\\nThey wishin\\' on me, yeah'"
      ]
     },
     "execution_count": 23,
     "metadata": {},
     "output_type": "execute_result"
    }
   ],
   "source": [
    "#import requests\n",
    "#import json\n",
    "\n",
    "#result = json.loads(requests.get('https://api.lyrics.ovh/v1/They Might Be Giants/Birdhouse in your soul').text)\n",
    "import pandas as pd\n",
    " \n",
    "import json as json\n",
    "\n",
    "Drake = open('Lyrics_Drake.json')\n",
    "\n",
    "album = json.load(Drake)\n",
    "\n",
    "titles = [song['title'] for song in album['songs']]\n",
    "\n",
    "lyrics = [song['lyrics'] for song in album['songs']]\n",
    "\n",
    "df = pd.DataFrame()\n",
    "\n",
    "df ['Titles'] = titles\n",
    "\n",
    "df['Lyrics'] = lyrics\n",
    "\n",
    "#df.head()\n",
    "#print(json.dumps(Drake, indent=2))\n",
    "#album.keys()\n",
    "#dataframe[colname]\n",
    "df['Lyrics'][0]"
   ]
  },
  {
   "cell_type": "markdown",
   "metadata": {},
   "source": [
    "2. Read in the contents of your file.  Print the lyrics of the song (not the entire dictionary!) and use spaCyTextBlob to perform sentiment analysis on the lyrics.  Print the polarity score of the sentiment analysis.  Given that the range of the polarity score is `[-1.0,1.0]` which corresponds to how positive or negative the text in question is, do you think the lyrics have a more positive or negative connotaion?  Answer this question in a comment in your code cell."
   ]
  },
  {
   "cell_type": "code",
   "execution_count": 29,
   "metadata": {},
   "outputs": [
    {
     "name": "stdout",
     "output_type": "stream",
     "text": [
      "-0.12413793103448272\n"
     ]
    }
   ],
   "source": [
    "import spacy\n",
    "from spacytextblob.spacytextblob import SpacyTextBlob\n",
    "\n",
    "nlp = spacy.load(\"en_core_web_sm\")\n",
    "\n",
    "nlp.add_pipe('spacytextblob')\n",
    "\n",
    "lyrics = df['Lyrics'][0]\n",
    "doc = nlp(lyrics)\n",
    "#print(\"Noun phrases:\", [chunk.text for chunk in doc.noun_chunks])\n",
    "#print(\"Verbs:\", [token.lemma_ for token in doc if token.pos_ == \"VERB\"])\n",
    "\n",
    "print(doc._.blob.polarity) \n",
    "\n"
   ]
  },
  {
   "cell_type": "markdown",
   "metadata": {},
   "source": [
    "3. Write a function that takes an artist, song, and filename, accesses the lyrics.ovh api to get the song lyrics, and writes the results to the specified filename.  Test this function by getting the lyrics to any four songs of your choice and storing them in different files."
   ]
  },
  {
   "cell_type": "code",
   "execution_count": 31,
   "metadata": {},
   "outputs": [],
   "source": [
    "import requests\n",
    "import json\n",
    "\n",
    "#AUTHOR=''\n",
    "#POEM=''\n",
    "AUTHOR='Edgar Allan Poe'\n",
    "POEM = 'A Dream Within A Dream'\n",
    "filename ='dream_poe'\n",
    "\n",
    "\n",
    "def get_poems(author, poem, filename):\n",
    "#def get_poems():\n",
    "    URL = f'https://poetrydb.org/author,title/{AUTHOR};{POEM}'\n",
    "    result = json.loads(requests.get(URL).text)\n",
    "    poem = '\\n'.join(result[0]['lines']) \n",
    "    #writing data to json file\n",
    "    json_object = json.dumps(result, indent=4)\n",
    "    \n",
    "  #  with open(\"poem.json\", \"w\") as outfile:\n",
    "    with open ('{}.json'.format(filename), \"w\") as outfile:\n",
    "        outfile.write(json_object)\n",
    "    \n",
    "get_poems(AUTHOR, POEM, filename)"
   ]
  },
  {
   "cell_type": "markdown",
   "metadata": {},
   "source": [
    "4. Write a function that takes the name of a file that contains song lyrics, loads the file, performs sentiment analysis, and returns the polarity score.  Use this function to print the polarity scores (with the name of the song) of the three files you created in question 3.  Does the reported polarity match your understanding of the song's lyrics? Why or why not do you think that might be?  Answer the questions in either a comment in the code cell or a markdown cell under the code cell."
   ]
  },
  {
   "cell_type": "code",
   "execution_count": 51,
   "metadata": {},
   "outputs": [
    {
     "name": "stdout",
     "output_type": "stream",
     "text": [
      "['Take this kiss upon the brow!', 'And, in parting from you now,', 'Thus much let me avow--', 'You are not wrong, who deem', 'That my days have been a dream:', 'Yet if hope has flown away', 'In a night, or in a day,', 'In a vision or in none,', 'Is it therefore the less _gone_?', '_All_ that we see or seem', 'Is but a dream within a dream.', '', 'I stand amid the roar', 'Of a surf-tormented shore,', 'And I hold within my hand', 'Grains of the golden sand--', 'How few! yet how they creep', 'Through my fingers to the deep', 'While I weep--while I weep!', 'O God! can I not grasp', 'Them with a tighter clasp?', 'O God! can I not save', '_One_ from the pitiless wave?', 'Is _all_ that we see or seem', 'But a dream within a dream?']\n"
     ]
    },
    {
     "ename": "ValueError",
     "evalue": "[E866] Expected a string or 'Doc' as input, but got: <class 'list'>.",
     "output_type": "error",
     "traceback": [
      "\u001b[0;31m---------------------------------------------------------------------------\u001b[0m",
      "\u001b[0;31mValueError\u001b[0m                                Traceback (most recent call last)",
      "\u001b[0;32m/var/folders/hq/x8yl1t6d40z3l3tz0836mfc00000gn/T/ipykernel_25508/3422502656.py\u001b[0m in \u001b[0;36m<module>\u001b[0;34m\u001b[0m\n\u001b[1;32m     15\u001b[0m \u001b[0mnlp\u001b[0m\u001b[0;34m.\u001b[0m\u001b[0madd_pipe\u001b[0m\u001b[0;34m(\u001b[0m\u001b[0;34m'spacytextblob'\u001b[0m\u001b[0;34m)\u001b[0m\u001b[0;34m\u001b[0m\u001b[0;34m\u001b[0m\u001b[0m\n\u001b[1;32m     16\u001b[0m \u001b[0;34m\u001b[0m\u001b[0m\n\u001b[0;32m---> 17\u001b[0;31m \u001b[0mdoc\u001b[0m \u001b[0;34m=\u001b[0m \u001b[0mnlp\u001b[0m\u001b[0;34m(\u001b[0m\u001b[0mtext\u001b[0m\u001b[0;34m)\u001b[0m\u001b[0;34m\u001b[0m\u001b[0;34m\u001b[0m\u001b[0m\n\u001b[0m\u001b[1;32m     18\u001b[0m \u001b[0;34m\u001b[0m\u001b[0m\n",
      "\u001b[0;32m~/opt/anaconda3/lib/python3.9/site-packages/spacy/language.py\u001b[0m in \u001b[0;36m__call__\u001b[0;34m(self, text, disable, component_cfg)\u001b[0m\n\u001b[1;32m   1003\u001b[0m         \u001b[0mDOCS\u001b[0m\u001b[0;34m:\u001b[0m \u001b[0mhttps\u001b[0m\u001b[0;34m:\u001b[0m\u001b[0;34m//\u001b[0m\u001b[0mspacy\u001b[0m\u001b[0;34m.\u001b[0m\u001b[0mio\u001b[0m\u001b[0;34m/\u001b[0m\u001b[0mapi\u001b[0m\u001b[0;34m/\u001b[0m\u001b[0mlanguage\u001b[0m\u001b[0;31m#call\u001b[0m\u001b[0;34m\u001b[0m\u001b[0;34m\u001b[0m\u001b[0m\n\u001b[1;32m   1004\u001b[0m         \"\"\"\n\u001b[0;32m-> 1005\u001b[0;31m         \u001b[0mdoc\u001b[0m \u001b[0;34m=\u001b[0m \u001b[0mself\u001b[0m\u001b[0;34m.\u001b[0m\u001b[0m_ensure_doc\u001b[0m\u001b[0;34m(\u001b[0m\u001b[0mtext\u001b[0m\u001b[0;34m)\u001b[0m\u001b[0;34m\u001b[0m\u001b[0;34m\u001b[0m\u001b[0m\n\u001b[0m\u001b[1;32m   1006\u001b[0m         \u001b[0;32mif\u001b[0m \u001b[0mcomponent_cfg\u001b[0m \u001b[0;32mis\u001b[0m \u001b[0;32mNone\u001b[0m\u001b[0;34m:\u001b[0m\u001b[0;34m\u001b[0m\u001b[0;34m\u001b[0m\u001b[0m\n\u001b[1;32m   1007\u001b[0m             \u001b[0mcomponent_cfg\u001b[0m \u001b[0;34m=\u001b[0m \u001b[0;34m{\u001b[0m\u001b[0;34m}\u001b[0m\u001b[0;34m\u001b[0m\u001b[0;34m\u001b[0m\u001b[0m\n",
      "\u001b[0;32m~/opt/anaconda3/lib/python3.9/site-packages/spacy/language.py\u001b[0m in \u001b[0;36m_ensure_doc\u001b[0;34m(self, doc_like)\u001b[0m\n\u001b[1;32m   1094\u001b[0m         \u001b[0;32mif\u001b[0m \u001b[0misinstance\u001b[0m\u001b[0;34m(\u001b[0m\u001b[0mdoc_like\u001b[0m\u001b[0;34m,\u001b[0m \u001b[0mstr\u001b[0m\u001b[0;34m)\u001b[0m\u001b[0;34m:\u001b[0m\u001b[0;34m\u001b[0m\u001b[0;34m\u001b[0m\u001b[0m\n\u001b[1;32m   1095\u001b[0m             \u001b[0;32mreturn\u001b[0m \u001b[0mself\u001b[0m\u001b[0;34m.\u001b[0m\u001b[0mmake_doc\u001b[0m\u001b[0;34m(\u001b[0m\u001b[0mdoc_like\u001b[0m\u001b[0;34m)\u001b[0m\u001b[0;34m\u001b[0m\u001b[0;34m\u001b[0m\u001b[0m\n\u001b[0;32m-> 1096\u001b[0;31m         \u001b[0;32mraise\u001b[0m \u001b[0mValueError\u001b[0m\u001b[0;34m(\u001b[0m\u001b[0mErrors\u001b[0m\u001b[0;34m.\u001b[0m\u001b[0mE866\u001b[0m\u001b[0;34m.\u001b[0m\u001b[0mformat\u001b[0m\u001b[0;34m(\u001b[0m\u001b[0mtype\u001b[0m\u001b[0;34m=\u001b[0m\u001b[0mtype\u001b[0m\u001b[0;34m(\u001b[0m\u001b[0mdoc_like\u001b[0m\u001b[0;34m)\u001b[0m\u001b[0;34m)\u001b[0m\u001b[0;34m)\u001b[0m\u001b[0;34m\u001b[0m\u001b[0;34m\u001b[0m\u001b[0m\n\u001b[0m\u001b[1;32m   1097\u001b[0m \u001b[0;34m\u001b[0m\u001b[0m\n\u001b[1;32m   1098\u001b[0m     \u001b[0;32mdef\u001b[0m \u001b[0m_ensure_doc_with_context\u001b[0m\u001b[0;34m(\u001b[0m\u001b[0mself\u001b[0m\u001b[0;34m,\u001b[0m \u001b[0mdoc_like\u001b[0m\u001b[0;34m:\u001b[0m \u001b[0mUnion\u001b[0m\u001b[0;34m[\u001b[0m\u001b[0mstr\u001b[0m\u001b[0;34m,\u001b[0m \u001b[0mDoc\u001b[0m\u001b[0;34m]\u001b[0m\u001b[0;34m,\u001b[0m \u001b[0mcontext\u001b[0m\u001b[0;34m:\u001b[0m \u001b[0mAny\u001b[0m\u001b[0;34m)\u001b[0m \u001b[0;34m->\u001b[0m \u001b[0mDoc\u001b[0m\u001b[0;34m:\u001b[0m\u001b[0;34m\u001b[0m\u001b[0;34m\u001b[0m\u001b[0m\n",
      "\u001b[0;31mValueError\u001b[0m: [E866] Expected a string or 'Doc' as input, but got: <class 'list'>."
     ]
    }
   ],
   "source": [
    "import json as json\n",
    "import spacy\n",
    "from spacytextblob.spacytextblob import SpacyTextBlob\n",
    "\n",
    "# loading the json file\n",
    "author_poem = open('dream_poe.json')\n",
    "poem_text = json.load(author_poem)\n",
    "for d in poem_text:\n",
    "    for key in d:\n",
    "        text = d['lines']\n",
    "print(text)\n",
    "# performing sentiment analysis\n",
    "nlp = spacy.load(\"en_core_web_sm\")\n",
    "\n",
    "nlp.add_pipe('spacytextblob')\n",
    "\n",
    "doc = nlp(text)\n",
    "\n"
   ]
  },
  {
   "cell_type": "code",
   "execution_count": 40,
   "metadata": {},
   "outputs": [
    {
     "name": "stdout",
     "output_type": "stream",
     "text": [
      "[\n",
      "    {\n",
      "        \"title\": \"A Dream Within A Dream\",\n",
      "        \"author\": \"Edgar Allan Poe\",\n",
      "        \"lines\": [\n",
      "            \"Take this kiss upon the brow!\",\n",
      "            \"And, in parting from you now,\",\n",
      "            \"Thus much let me avow--\",\n",
      "            \"You are not wrong, who deem\",\n",
      "            \"That my days have been a dream:\",\n",
      "            \"Yet if hope has flown away\",\n",
      "            \"In a night, or in a day,\",\n",
      "            \"In a vision or in none,\",\n",
      "            \"Is it therefore the less _gone_?\",\n",
      "            \"_All_ that we see or seem\",\n",
      "            \"Is but a dream within a dream.\",\n",
      "            \"\",\n",
      "            \"I stand amid the roar\",\n",
      "            \"Of a surf-tormented shore,\",\n",
      "            \"And I hold within my hand\",\n",
      "            \"Grains of the golden sand--\",\n",
      "            \"How few! yet how they creep\",\n",
      "            \"Through my fingers to the deep\",\n",
      "            \"While I weep--while I weep!\",\n",
      "            \"O God! can I not grasp\",\n",
      "            \"Them with a tighter clasp?\",\n",
      "            \"O God! can I not save\",\n",
      "            \"_One_ from the pitiless wave?\",\n",
      "            \"Is _all_ that we see or seem\",\n",
      "            \"But a dream within a dream?\"\n",
      "        ],\n",
      "        \"linecount\": \"24\"\n",
      "    }\n",
      "]\n"
     ]
    }
   ],
   "source": [
    "pretty = json.dumps(poem_text, indent=4)\n",
    "print(pretty)\n"
   ]
  },
  {
   "cell_type": "code",
   "execution_count": 42,
   "metadata": {},
   "outputs": [
    {
     "name": "stdout",
     "output_type": "stream",
     "text": [
      "['Take this kiss upon the brow!', 'And, in parting from you now,', 'Thus much let me avow--', 'You are not wrong, who deem', 'That my days have been a dream:', 'Yet if hope has flown away', 'In a night, or in a day,', 'In a vision or in none,', 'Is it therefore the less _gone_?', '_All_ that we see or seem', 'Is but a dream within a dream.', '', 'I stand amid the roar', 'Of a surf-tormented shore,', 'And I hold within my hand', 'Grains of the golden sand--', 'How few! yet how they creep', 'Through my fingers to the deep', 'While I weep--while I weep!', 'O God! can I not grasp', 'Them with a tighter clasp?', 'O God! can I not save', '_One_ from the pitiless wave?', 'Is _all_ that we see or seem', 'But a dream within a dream?']\n"
     ]
    }
   ],
   "source": [
    "for d in poem_text:\n",
    "    print(d['lines'])"
   ]
  },
  {
   "cell_type": "code",
   "execution_count": 47,
   "metadata": {},
   "outputs": [
    {
     "name": "stdout",
     "output_type": "stream",
     "text": [
      "['Take this kiss upon the brow!', 'And, in parting from you now,', 'Thus much let me avow--', 'You are not wrong, who deem', 'That my days have been a dream:', 'Yet if hope has flown away', 'In a night, or in a day,', 'In a vision or in none,', 'Is it therefore the less _gone_?', '_All_ that we see or seem', 'Is but a dream within a dream.', '', 'I stand amid the roar', 'Of a surf-tormented shore,', 'And I hold within my hand', 'Grains of the golden sand--', 'How few! yet how they creep', 'Through my fingers to the deep', 'While I weep--while I weep!', 'O God! can I not grasp', 'Them with a tighter clasp?', 'O God! can I not save', '_One_ from the pitiless wave?', 'Is _all_ that we see or seem', 'But a dream within a dream?']\n",
      "['Take this kiss upon the brow!', 'And, in parting from you now,', 'Thus much let me avow--', 'You are not wrong, who deem', 'That my days have been a dream:', 'Yet if hope has flown away', 'In a night, or in a day,', 'In a vision or in none,', 'Is it therefore the less _gone_?', '_All_ that we see or seem', 'Is but a dream within a dream.', '', 'I stand amid the roar', 'Of a surf-tormented shore,', 'And I hold within my hand', 'Grains of the golden sand--', 'How few! yet how they creep', 'Through my fingers to the deep', 'While I weep--while I weep!', 'O God! can I not grasp', 'Them with a tighter clasp?', 'O God! can I not save', '_One_ from the pitiless wave?', 'Is _all_ that we see or seem', 'But a dream within a dream?']\n",
      "['Take this kiss upon the brow!', 'And, in parting from you now,', 'Thus much let me avow--', 'You are not wrong, who deem', 'That my days have been a dream:', 'Yet if hope has flown away', 'In a night, or in a day,', 'In a vision or in none,', 'Is it therefore the less _gone_?', '_All_ that we see or seem', 'Is but a dream within a dream.', '', 'I stand amid the roar', 'Of a surf-tormented shore,', 'And I hold within my hand', 'Grains of the golden sand--', 'How few! yet how they creep', 'Through my fingers to the deep', 'While I weep--while I weep!', 'O God! can I not grasp', 'Them with a tighter clasp?', 'O God! can I not save', '_One_ from the pitiless wave?', 'Is _all_ that we see or seem', 'But a dream within a dream?']\n",
      "['Take this kiss upon the brow!', 'And, in parting from you now,', 'Thus much let me avow--', 'You are not wrong, who deem', 'That my days have been a dream:', 'Yet if hope has flown away', 'In a night, or in a day,', 'In a vision or in none,', 'Is it therefore the less _gone_?', '_All_ that we see or seem', 'Is but a dream within a dream.', '', 'I stand amid the roar', 'Of a surf-tormented shore,', 'And I hold within my hand', 'Grains of the golden sand--', 'How few! yet how they creep', 'Through my fingers to the deep', 'While I weep--while I weep!', 'O God! can I not grasp', 'Them with a tighter clasp?', 'O God! can I not save', '_One_ from the pitiless wave?', 'Is _all_ that we see or seem', 'But a dream within a dream?']\n"
     ]
    }
   ],
   "source": [
    "\n",
    "for d in poem_text:\n",
    "    for key in d:\n",
    "        print(d['lines'])"
   ]
  },
  {
   "cell_type": "code",
   "execution_count": 50,
   "metadata": {},
   "outputs": [
    {
     "name": "stdout",
     "output_type": "stream",
     "text": [
      "Polarity score is: -0.12413793103448272\n"
     ]
    }
   ],
   "source": [
    "print('Polarity score is:', doc._.blob.polarity)"
   ]
  },
  {
   "cell_type": "code",
   "execution_count": null,
   "metadata": {},
   "outputs": [],
   "source": []
  }
 ],
 "metadata": {
  "kernelspec": {
   "display_name": "Python 3 (ipykernel)",
   "language": "python",
   "name": "python3"
  },
  "language_info": {
   "codemirror_mode": {
    "name": "ipython",
    "version": 3
   },
   "file_extension": ".py",
   "mimetype": "text/x-python",
   "name": "python",
   "nbconvert_exporter": "python",
   "pygments_lexer": "ipython3",
   "version": "3.9.7"
  }
 },
 "nbformat": 4,
 "nbformat_minor": 4
}
