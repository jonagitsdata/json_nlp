{
 "cells": [
  {
   "cell_type": "code",
   "execution_count": 9,
   "id": "f754e7dc-fd62-4ce0-ace3-7a418a255ce2",
   "metadata": {},
   "outputs": [],
   "source": [
    "import requests\n",
    "import json\n",
    "\n",
    "#AUTHOR=''\n",
    "#POEM=''\n",
    "AUTHOR='Edgar Allan Poe'\n",
    "POEM = 'A Dream Within A Dream'\n",
    "filename ='dream_poe'\n",
    "\n",
    "\n",
    "def get_poems(author, poem, filename):\n",
    "#def get_poems():\n",
    "    URL = f'https://poetrydb.org/author,title/{AUTHOR};{POEM}'\n",
    "    result = json.loads(requests.get(URL).text)\n",
    "    poem = '\\n'.join(result[0]['lines']) \n",
    "    #writing data to json file\n",
    "    json_object = json.dumps(result, indent=4)\n",
    "    \n",
    "  #  with open(\"poem.json\", \"w\") as outfile:\n",
    "    with open ('{}.json'.format(filename), \"w\") as outfile:\n",
    "        outfile.write(json_object)\n",
    "    \n",
    "get_poems(AUTHOR, POEM, filename)"
   ]
  },
  {
   "cell_type": "code",
   "execution_count": 4,
   "id": "eede8e51-e2ec-46e4-8641-52023fe2c13a",
   "metadata": {},
   "outputs": [
    {
     "ename": "NameError",
     "evalue": "name 'poem' is not defined",
     "output_type": "error",
     "traceback": [
      "\u001b[0;31m---------------------------------------------------------------------------\u001b[0m",
      "\u001b[0;31mNameError\u001b[0m                                 Traceback (most recent call last)",
      "\u001b[0;32m/var/folders/hq/x8yl1t6d40z3l3tz0836mfc00000gn/T/ipykernel_42608/1981741120.py\u001b[0m in \u001b[0;36m<module>\u001b[0;34m\u001b[0m\n\u001b[0;32m----> 1\u001b[0;31m \u001b[0mpoem\u001b[0m\u001b[0;34m\u001b[0m\u001b[0;34m\u001b[0m\u001b[0m\n\u001b[0m",
      "\u001b[0;31mNameError\u001b[0m: name 'poem' is not defined"
     ]
    }
   ],
   "source": [
    "\n"
   ]
  },
  {
   "cell_type": "code",
   "execution_count": null,
   "id": "681db03b-7e89-4141-a6b3-d5550e7d3425",
   "metadata": {},
   "outputs": [],
   "source": []
  }
 ],
 "metadata": {
  "kernelspec": {
   "display_name": "Python 3 (ipykernel)",
   "language": "python",
   "name": "python3"
  },
  "language_info": {
   "codemirror_mode": {
    "name": "ipython",
    "version": 3
   },
   "file_extension": ".py",
   "mimetype": "text/x-python",
   "name": "python",
   "nbconvert_exporter": "python",
   "pygments_lexer": "ipython3",
   "version": "3.9.7"
  }
 },
 "nbformat": 4,
 "nbformat_minor": 5
}
