{
 "cells": [
  {
   "cell_type": "code",
   "execution_count": 2,
   "id": "f89f7027-69be-46fd-a7aa-60663abbe35e",
   "metadata": {},
   "outputs": [],
   "source": [
    "import pandas as pd"
   ]
  },
  {
   "cell_type": "code",
   "execution_count": 9,
   "id": "4f09ac34-aded-4ea2-ad88-9b7301c94c32",
   "metadata": {},
   "outputs": [],
   "source": [
    "#df = pd.read_csv (r'Path where the CSV file is saved\\File Name.csv')\n",
    "#df.to_json (r'Path where the new JSON file will be stored\\New File Name.json')\n",
    "\n",
    "csv_file = '/Users/jonathannkangabwa/Documents/44-608/githubdeskrepos/json_nlp/Drake.csv'\n",
    "fields = ['Artist', 'Title', 'Lyric']\n",
    "Drake_df = pd.read_csv(csv_file, usecols=fields)\n",
    "#Drake_df.head()\n",
    "df = Drake_df\n",
    "#df.head()\n",
    "df.to_json (r'/Users/jonathannkangabwa/Documents/44-608/githubdeskrepos/json_nlp/Drake.json')\n",
    "\n",
    "\n",
    "\n",
    "\n",
    "                  "
   ]
  },
  {
   "cell_type": "code",
   "execution_count": null,
   "id": "c6a7e96b-3e41-4e95-99c2-24cb865f5206",
   "metadata": {},
   "outputs": [],
   "source": []
  }
 ],
 "metadata": {
  "kernelspec": {
   "display_name": "Python 3 (ipykernel)",
   "language": "python",
   "name": "python3"
  },
  "language_info": {
   "codemirror_mode": {
    "name": "ipython",
    "version": 3
   },
   "file_extension": ".py",
   "mimetype": "text/x-python",
   "name": "python",
   "nbconvert_exporter": "python",
   "pygments_lexer": "ipython3",
   "version": "3.9.7"
  }
 },
 "nbformat": 4,
 "nbformat_minor": 5
}
